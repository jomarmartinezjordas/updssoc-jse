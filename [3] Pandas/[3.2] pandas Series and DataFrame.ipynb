{
 "cells": [
  {
   "cell_type": "markdown",
   "metadata": {},
   "source": [
    "<img src=\"Data/UP Data Science Society Logo 2.png\" width=700>\n",
    "\n",
    "# pandas Series and DataFrame\n",
    "\n",
    "### Structure\n",
    "```\n",
    "├── Introduction to Series and DataFrame\n",
    "│   ├── Dimension of pandas data structure\n",
    "├── Series\n",
    "│   ├── Creating a simple Series object\n",
    "│   ├── Understanding indexes better\n",
    "├── DataFrame\n",
    "│   ├── Creating a simple DataFrame object\n",
    "│   ├── The Differences of a Series over a DataFrame\n",
    "│   ├── Column-oriented vs Row-oriented Thinking\n",
    "│   ├── Understanding indexes better\n",
    "├── Deep Dive into Series and DataFrames\n",
    "│   ├── Attributes\n",
    "│   ├── Operators\n",
    "│   ├── Methods\n",
    "```\n",
    "\n",
    "___\n",
    "\n",
    "## Introduction to Series and DataFrame\n",
    "There are two main data structures that are specifically used to deal with array and tabular data within the pandas package -- Series and DataFrame\n",
    "\n",
    "To make this easily understood, think of it this way:\n",
    "* a Series is similar to a single column of data while,\n",
    "* a DataFrame is like your usual rows and columns whenever you open a spreadsheet\n",
    "* you can also think that a DataFrame is a collection of several Series objects to form your rows and columns. \n",
    "\n",
    "We will start on discussing Series and DataFrame as it will prove to be helpful in the succeeding lessons on to know how and when the best use-case scenario for each kind for any of those two data structures. We will definitely spend a long time with this to ensure that you will understand how pandas work and how to effectively use the package."
   ]
  },
  {
   "cell_type": "markdown",
   "metadata": {},
   "source": [
    "### Dimensions of the pandas data structures\n",
    "To better distinguish the difference of the two, Table 3.1 illustrates the dimensions of both Series and DataFrame\n",
    "\n",
    "<center>Table 3.1: Dimensions of pandas data structures</center>\n",
    "<center>\n",
    "\n",
    "| Data Structure | Dimensionality | Spreadsheet | Database | Linear Algebra |\n",
    "|----------------|----------------|-------------|----------|----------------|\n",
    "| Series         | 1D             | Column      | Column   | Column Vector  |\n",
    "| DataFrame      | 2D             | Single Sheet| Table    | Matrix         |\n",
    "\n",
    "</center>\n",
    "\n",
    "</br>\n",
    "\n",
    "___"
   ]
  },
  {
   "cell_type": "markdown",
   "metadata": {},
   "source": [
    "## Series\n",
    "\n",
    "A Series is used to model one-dimensional data. \n",
    "\n",
    "The Series object also has a few more bits of data, including an index and a name. \n",
    "\n",
    "A common idea through pandas is the notion of an axis. Because a series is one-dimensional, it has a single axis—the index."
   ]
  },
  {
   "cell_type": "markdown",
   "metadata": {},
   "source": [
    "### Creating a simple Series object using pandas\n",
    "\n",
    "Creating a Series in pandas is super simple. In the example below, we will create a simple table showing a tally of four Math17 test scores using Python and pandas"
   ]
  },
  {
   "cell_type": "code",
   "execution_count": 38,
   "metadata": {},
   "outputs": [
    {
     "name": "stdout",
     "output_type": "stream",
     "text": [
      "0    60.5\n",
      "1    61.0\n",
      "2    60.0\n",
      "3    63.0\n",
      "Name: Math 17 test scores, dtype: float64\n"
     ]
    }
   ],
   "source": [
    "import pandas as pd\n",
    "\n",
    "Math17Scores = pd.Series([60.5,61,60,63], name = 'Math 17 test scores')\n",
    "\n",
    "print(Math17Scores)"
   ]
  },
  {
   "cell_type": "markdown",
   "metadata": {},
   "source": [
    "You may be wondering... \n",
    "\n",
    "*_```I thought you said that Series is a single column of data? Why do we have 2 columns in the example?```_*\n",
    "\n",
    "The leftmost column is what we call as the *_index_*. The index is not part of the values. \n",
    "\n",
    "The generic name for an index is an axis, and the values of the index — 0, 1, 2, 3 — are called axis labels. \n",
    "\n",
    "The data — 60.5, 61.0, 60.0, and 63.0 — is also called the values of the series"
   ]
  },
  {
   "cell_type": "markdown",
   "metadata": {},
   "source": [
    "\n",
    "### Understanding indexes better\n",
    "This double abstraction of the index seems unnecessary at first glance—a list already has integer indexes. But there is a trick up pandas’ sleeves. By allowing non-integer values, the data structure supports other index types such as strings, dates, as well as arbitrarily ordered indices, or even duplicate index values.\n",
    "\n",
    "The index is a core feature of pandas’ data structures given the library’s past in analysis of financial data or time-series data. Many of the operations performed on a Series operate directly on the index or by index lookup.\n",
    "\n",
    "We then proceed with DataFrames so it would be more intuitive to understand\n",
    "\n",
    "___"
   ]
  },
  {
   "cell_type": "markdown",
   "metadata": {},
   "source": [
    "## DataFrames\n",
    "\n",
    "In pandas, the two-dimensional counterpart to the one-dimensional Series is the DataFrame. \n",
    "\n",
    "It is better understood as a collection of Series. Each column in a DataFrame can be a Series on its own."
   ]
  },
  {
   "cell_type": "markdown",
   "metadata": {},
   "source": [
    "### Creating a simple DataFrame using pandas\n",
    "\n",
    "Manually creating a pandas DataFrame object is a bit more complex compared to how we did it with a Series object as we are now dealing with multiple Series representing a separate column within a DataFrame.\n",
    "\n",
    "Continuing with the Math 17 Scores table, we now add Names and Degree Program which then adds more details to our table. We will get Jom's and Nico's score when they took their Math 17 exam during their freshie year."
   ]
  },
  {
   "cell_type": "code",
   "execution_count": 39,
   "metadata": {},
   "outputs": [
    {
     "name": "stdout",
     "output_type": "stream",
     "text": [
      "   Name Program  Score\n",
      "0   Jom    BSIE     60\n",
      "1  Nico  BSMath    100\n"
     ]
    }
   ],
   "source": [
    "import pandas as pd\n",
    "\n",
    "Math17Scores_2 = pd.DataFrame (\n",
    "    {\n",
    "        'Name':['Jom','Nico'],\n",
    "        'Program':['BSIE','BSMath'],\n",
    "        'Score':[60,100]\n",
    "    }\n",
    ")\n",
    "\n",
    "print(Math17Scores_2)"
   ]
  },
  {
   "cell_type": "markdown",
   "metadata": {},
   "source": [
    "### Breaking down the differences between Series and DataFrame\n",
    "\n",
    "(Show difference of Series with DataFrame --- particularly the difference in number of axis)\n",
    "\n",
    "### Column-oriented vs Row-oriented Thinking\n",
    "\n",
    "If you're familiar or have some experience with using spreadsheets, you might have been trained to think in a row-oriented basis whereas you are usually referring to the set of values in a row to be contained together. From our example in Math17Scores_2, you may intuitively think that getting the details of Jom would require you to look at row index 0 to pull Jom|BSIE|60. \n",
    "\n",
    "However in practice, you might deal with datasets where the analysis might need to be focused over a certain column and eventually would require you to simply pull a columm and perform your operations there. From our example, you might need to make an analysis over the performance of degree programs in Math 17 or get the standard deviation of the scores of the students. Training yourself to be more familiar with index operations, specially in DataFrames will benefit greatly throughout your data science journey. We will discuss this further on our deep dive into Series and DataFrames below.\n",
    "\n",
    "___\n"
   ]
  },
  {
   "cell_type": "markdown",
   "metadata": {},
   "source": [
    "### CHECKPOINT 1: Creating your own Series and DataFrame objects\n",
    "\n",
    "Referring to the examples above, \n",
    "* Create a Series object containing all the colors of the rainbow \n",
    "* Create a DataFrame containing a list of 10 of your friends, their gender, their age, and their favorite food. \n",
    "\n",
    "The code block for each has been started for your convenience. \n",
    "\n",
    "To run your code, you may click on the triangle on the left side of the code block or press ```Shift + Enter``` after you've written your code"
   ]
  },
  {
   "cell_type": "code",
   "execution_count": 40,
   "metadata": {},
   "outputs": [],
   "source": [
    "# Modify this for your Series object\n",
    "\n",
    "import pandas as pd\n"
   ]
  },
  {
   "cell_type": "code",
   "execution_count": 41,
   "metadata": {},
   "outputs": [],
   "source": [
    "# Modify this for your DataFrame object\n",
    "\n",
    "import pandas as pd"
   ]
  },
  {
   "cell_type": "markdown",
   "metadata": {},
   "source": [
    "___"
   ]
  },
  {
   "cell_type": "markdown",
   "metadata": {},
   "source": [
    "## Deep Dive into Series and DataFrames\n",
    "\n",
    "There are many ways to inspect, manipulate, and do operations with a Series and a DataFrame. In this part, we will start introducing them.\n",
    "\n",
    "To make the learning a bit more structured, we shall start with their respective ```attributes``` then proceed with their ```operators``` and ```methods```. "
   ]
  },
  {
   "cell_type": "markdown",
   "metadata": {},
   "source": [
    "### Series and DataFrame Attributes\n",
    "Attributes are properties or characteristics associated with an object that provide information about the object's state or features. In even simpler terms, attributes give you details about what the object is like or what it contains.\n",
    "\n",
    "Here are ten (10) common attributes that you can use when inspect a Series/DataFrame object. \n",
    "\n",
    "Namely:\n",
    "1. `dtype` - returns the data type of the element in the Series/DataFrame\n",
    "2. `index` - returns the index of the Series/DataFrame\n",
    "3. `values` - returns the values of the Series/DataFrame as a NumPy array\n",
    "4. `size` - returns the number of elements in the Series/DataFrame\n",
    "5. `shape` - returns a tuple representing the number of elements along that dimension\n",
    "6. `name` - returns the name of the Series/DataFrame\n",
    "7. `empty` - returns a boolean value indicating if the Series/DataFrame is empty or not\n",
    "8. `head()` - returns the first 'n' elements of the Series/DataFrame. By default, it returns the first 5 elements of the Series/DataFrame\n",
    "9. `tail()` - returns the last 'n' elements of the Series/DataFrame. By default, it returns the last 5 elements of the Series/DataFrame\n",
    "10. `unique()` - returns the unique values in the Series/DataFrame\n",
    "\n",
    "To use an attribute, you call your data object then add \".\" then followed by the attribute syntax. \n",
    "\n",
    "(e.g. s.head(), s.empty) \n",
    "\n",
    "An example on how to use the the attributes is shown below. Feel free to experiment in the code blocks below to familiarize yourself better with Series/DataFrame attributes"
   ]
  },
  {
   "cell_type": "code",
   "execution_count": 57,
   "metadata": {},
   "outputs": [
    {
     "data": {
      "text/plain": [
       "dtype('int64')"
      ]
     },
     "execution_count": 57,
     "metadata": {},
     "output_type": "execute_result"
    }
   ],
   "source": [
    "# Test the attributes on this simple Series object\n",
    "\n",
    "import pandas as pd\n",
    "\n",
    "data = [10, 20, 30, 40, 50, 60, 70, 80, 90, 100]\n",
    "s = pd.Series(data)\n",
    "\n",
    "s.dtypes\n"
   ]
  },
  {
   "cell_type": "code",
   "execution_count": 43,
   "metadata": {},
   "outputs": [
    {
     "data": {
      "text/plain": [
       "(5, 3)"
      ]
     },
     "execution_count": 43,
     "metadata": {},
     "output_type": "execute_result"
    }
   ],
   "source": [
    "# Test the attributes on this simple DataFrame object\n",
    "\n",
    "import pandas as pd\n",
    "\n",
    "# Create a DataFrame\n",
    "data = {'Name': ['Alice', 'Bob', 'Charlie', 'David', 'Eva'],\n",
    "        'Age': [25, 30, 35, 40, 45],\n",
    "        'Salary': [50000, 60000, 70000, 80000, 90000]}\n",
    "df = pd.DataFrame(data)\n",
    "\n",
    "df.shape"
   ]
  },
  {
   "cell_type": "markdown",
   "metadata": {},
   "source": [
    "### Series and DataFrame Operators\n",
    "\n",
    "In pandas, Series and DataFrame objects support various operators for performing common data manipulation tasks. \n",
    "\n",
    "#### Arithmetic Operators\n",
    "* Arithmetic operators (+, -, *, /, **) perform element-wise operations between corresponding elements of two Series or DataFrames or between a Series/DataFrame and a scalar value. \n",
    "* Operations are performed element-wise by default.\n",
    "\n",
    "<center>\n",
    "\n",
    "| Operator       | Description    |\n",
    "|----------------|----------------|\n",
    "| +              | Addition       |\n",
    "| -              | Subtraction    |\n",
    "| *              | Multiplication |\n",
    "| /              | Division       |\n",
    "| **             | Exponentiation |\n",
    "| %              | Modulo         |\n",
    "\n",
    "</center>"
   ]
  },
  {
   "cell_type": "code",
   "execution_count": 46,
   "metadata": {},
   "outputs": [
    {
     "name": "stdout",
     "output_type": "stream",
     "text": [
      "\n",
      "Result (Series): \n",
      "0    5.5\n",
      "1    5.5\n",
      "2    5.5\n",
      "dtype: float64\n",
      "\n",
      "Result (DataFrame): \n",
      "   A  B\n",
      "0  5  5\n",
      "1  5  7\n",
      "2  5  9\n"
     ]
    }
   ],
   "source": [
    "# Series\n",
    "\n",
    "s1 = pd.Series([1, 2, 3])\n",
    "s2 = pd.Series([4.5, 3.5, 2.5])\n",
    "result_series = s1 + s2  # Change the operator in this line and see the effect\n",
    "print(\"\\nResult (Series): \")\n",
    "print(result_series)\n",
    "\n",
    "# DataFrame\n",
    "\n",
    "df1 = pd.DataFrame({'A': [1, 2, 3], 'B': [4, 5, 6]})\n",
    "df2 = pd.DataFrame({'A': [4, 3, 2], 'B': [1, 2, 3]})\n",
    "\n",
    "result_dataframe = df1 + df2 # Change the operator in this line and see the effect\n",
    "print(\"\\nResult (DataFrame): \")\n",
    "print(result_dataframe)\n",
    "\n"
   ]
  },
  {
   "cell_type": "markdown",
   "metadata": {},
   "source": [
    "For strings in a pandas Series/DataFrame, subtraction, multiplication, and division operations are not directly applicable like they are for numerical data types. \n",
    "\n",
    "However, you can still perform other operations such concatenation using the + operator."
   ]
  },
  {
   "cell_type": "code",
   "execution_count": 53,
   "metadata": {},
   "outputs": [
    {
     "name": "stdout",
     "output_type": "stream",
     "text": [
      "\n",
      "Result (String concatenation):\n",
      "0              hello world\n",
      "1    pandas is a powerful \n",
      "2                  library\n",
      "dtype: object\n",
      "\n",
      "Result (String concatenation for column 'A' with column 'D'):\n",
      "0    hellolibrary\n",
      "1       pandasfor\n",
      "2            data\n",
      "dtype: object\n",
      "\n",
      "Result (String concatenation for column 'B' with column 'E'):\n",
      "0    worldanalysis\n",
      "1        isscience\n",
      "2      aprocessing\n",
      "dtype: object\n",
      "\n",
      "Result (String concatenation for column 'C' with column 'F'):\n",
      "0       beautifulin\n",
      "1              aand\n",
      "2    powerfulPython\n",
      "dtype: object\n"
     ]
    }
   ],
   "source": [
    "# Strings - Series\n",
    "s3 = pd.Series(['hello', 'pandas', ' '])\n",
    "s4 = pd.Series([' world', ' is a powerful ', 'library'])\n",
    "\n",
    "result = s3 + s4  # Element-wise string concatenation\n",
    "print(\"\\nResult (String concatenation):\")\n",
    "print(result)\n",
    "\n",
    "# Strings - DataFrame\n",
    "df1 = pd.DataFrame({'A': ['hello', 'pandas', ' '],\n",
    "                    'B': ['world', 'is', 'a'],\n",
    "                    'C': ['beautiful', 'a', 'powerful']})\n",
    "\n",
    "df2 = pd.DataFrame({'D': ['library', 'for', 'data'],\n",
    "                    'E': ['analysis', 'science', 'processing'],\n",
    "                    'F': ['in', 'and', 'Python']})\n",
    "\n",
    "# Concatenate corresponding strings element-wise\n",
    "result_concatenation = df1['A'] + df2['D']\n",
    "print(\"\\nResult (String concatenation for column 'A' with column 'D'):\")\n",
    "print(result_concatenation)\n",
    "\n",
    "result_concatenation = df1['B'] + df2['E']\n",
    "print(\"\\nResult (String concatenation for column 'B' with column 'E'):\")\n",
    "print(result_concatenation)\n",
    "\n",
    "result_concatenation = df1['C'] + df2['F']\n",
    "print(\"\\nResult (String concatenation for column 'C' with column 'F'):\")\n",
    "print(result_concatenation)"
   ]
  },
  {
   "cell_type": "markdown",
   "metadata": {},
   "source": [
    "#### Comparison Operators\n",
    "* Comparison operators (==, !=, <, >, <=, >=) perform element-wise comparison between corresponding elements of two Series or DataFrames. \n",
    "* You can use comparisons for various data types from strings, booleans, integers, etc. \n",
    "* Operations are performed element-wise, resulting in a boolean Series or DataFrame.\n",
    "\n",
    "<center>\n",
    "\n",
    "| Operator       | Description              |\n",
    "|----------------|--------------------------|\n",
    "| ==             | Equal to                 |\n",
    "| !=             | Not equal to             |\n",
    "| <              | Less than                |\n",
    "| >              | Greater than             |\n",
    "| <=             | Less than or equal to    |\n",
    "| >=             | Greater than or equal to |\n",
    "\n",
    "</center>"
   ]
  },
  {
   "cell_type": "code",
   "execution_count": 48,
   "metadata": {},
   "outputs": [
    {
     "name": "stdout",
     "output_type": "stream",
     "text": [
      "\n",
      "Comparison Result (Series):\n",
      "0    False\n",
      "1     True\n",
      "2     True\n",
      "dtype: bool\n",
      "\n",
      "Comparison result (DataFrame):\n",
      "       A     B\n",
      "0  False  True\n",
      "1  False  True\n",
      "2   True  True\n"
     ]
    }
   ],
   "source": [
    "# Series\n",
    "s5 = pd.Series([True, True, False])\n",
    "s6 = pd.Series([False, True, False])\n",
    "result = s5 <= s6  # Element-wise logical AND\n",
    "print(\"\\nComparison Result (Series):\")\n",
    "print(result)\n",
    "\n",
    "# DataFrames\n",
    "df1 = pd.DataFrame({'A': [1, 2, 3], 'B': [4, 5, 6]})\n",
    "df2 = pd.DataFrame({'A': [4, 3, 2], 'B': [1, 2, 3]})\n",
    "\n",
    "# Comparison\n",
    "result_comparison = df1 > df2\n",
    "print(\"\\nComparison result (DataFrame):\")\n",
    "print(result_comparison)\n"
   ]
  },
  {
   "cell_type": "code",
   "execution_count": null,
   "metadata": {},
   "outputs": [],
   "source": []
  }
 ],
 "metadata": {
  "kernelspec": {
   "display_name": "Python 3",
   "language": "python",
   "name": "python3"
  },
  "language_info": {
   "codemirror_mode": {
    "name": "ipython",
    "version": 3
   },
   "file_extension": ".py",
   "mimetype": "text/x-python",
   "name": "python",
   "nbconvert_exporter": "python",
   "pygments_lexer": "ipython3",
   "version": "3.11.2"
  }
 },
 "nbformat": 4,
 "nbformat_minor": 2
}
